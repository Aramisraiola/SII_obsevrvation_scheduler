{
 "cells": [
  {
   "metadata": {},
   "cell_type": "markdown",
   "source": "# Tutorial 2: Simulated sources",
   "id": "c6989880f3542d6a"
  },
  {
   "metadata": {},
   "cell_type": "markdown",
   "source": "## Sources",
   "id": "84694b2464a2281f"
  },
  {
   "metadata": {
    "ExecuteTime": {
     "end_time": "2024-05-08T10:42:11.230179Z",
     "start_time": "2024-05-08T10:42:11.227758Z"
    }
   },
   "cell_type": "code",
   "source": "import utils.source_objects",
   "id": "5a0cb8b87cd952b9",
   "outputs": [],
   "execution_count": 3
  },
  {
   "metadata": {
    "ExecuteTime": {
     "end_time": "2024-05-08T10:42:24.940553Z",
     "start_time": "2024-05-08T10:42:24.931353Z"
    }
   },
   "cell_type": "code",
   "source": "disk=gaussian_disk(100,1,1000)",
   "id": "12082052dab1659d",
   "outputs": [
    {
     "ename": "NameError",
     "evalue": "name 'gaussian_disk' is not defined",
     "output_type": "error",
     "traceback": [
      "\u001B[0;31m---------------------------------------------------------------------------\u001B[0m",
      "\u001B[0;31mNameError\u001B[0m                                 Traceback (most recent call last)",
      "Cell \u001B[0;32mIn[5], line 1\u001B[0m\n\u001B[0;32m----> 1\u001B[0m disk\u001B[38;5;241m=\u001B[39mgaussian_disk(\u001B[38;5;241m100\u001B[39m,\u001B[38;5;241m1\u001B[39m,\u001B[38;5;241m1000\u001B[39m)\n",
      "\u001B[0;31mNameError\u001B[0m: name 'gaussian_disk' is not defined"
     ]
    }
   ],
   "execution_count": 5
  },
  {
   "metadata": {},
   "cell_type": "code",
   "outputs": [],
   "execution_count": null,
   "source": "",
   "id": "50ed33b5b9533cf3"
  }
 ],
 "metadata": {
  "kernelspec": {
   "display_name": "Python 3",
   "language": "python",
   "name": "python3"
  },
  "language_info": {
   "codemirror_mode": {
    "name": "ipython",
    "version": 2
   },
   "file_extension": ".py",
   "mimetype": "text/x-python",
   "name": "python",
   "nbconvert_exporter": "python",
   "pygments_lexer": "ipython2",
   "version": "2.7.6"
  }
 },
 "nbformat": 4,
 "nbformat_minor": 5
}
